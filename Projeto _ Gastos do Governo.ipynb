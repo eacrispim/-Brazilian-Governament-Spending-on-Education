{
 "cells": [
  {
   "cell_type": "code",
   "execution_count": 1,
   "metadata": {},
   "outputs": [],
   "source": [
    "import numpy as np # linear algebra\n",
    "import pandas as pd\n",
    "import matplotlib.pyplot as plt\n",
    "import seaborn as sns"
   ]
  },
  {
   "cell_type": "code",
   "execution_count": 2,
   "metadata": {},
   "outputs": [],
   "source": [
    "desp_edu = pd.read_csv('C:/Users/emers/Documents/Cursos/Ironhack/week-2/Projeto/Data set`s/brazil-gov-expenses/Brazil_Gov_Exp_All - Formated.csv',\n",
    "                   sep=';',encoding='ISO-8859-1')"
   ]
  },
  {
   "cell_type": "code",
   "execution_count": 3,
   "metadata": {},
   "outputs": [
    {
     "data": {
      "text/html": [
       "<div>\n",
       "<style scoped>\n",
       "    .dataframe tbody tr th:only-of-type {\n",
       "        vertical-align: middle;\n",
       "    }\n",
       "\n",
       "    .dataframe tbody tr th {\n",
       "        vertical-align: top;\n",
       "    }\n",
       "\n",
       "    .dataframe thead th {\n",
       "        text-align: right;\n",
       "    }\n",
       "</style>\n",
       "<table border=\"1\" class=\"dataframe\">\n",
       "  <thead>\n",
       "    <tr style=\"text-align: right;\">\n",
       "      <th></th>\n",
       "      <th>Year</th>\n",
       "      <th>Gov_agency_Cod</th>\n",
       "      <th>Sup_Gov_agency_Cod</th>\n",
       "      <th>Planned</th>\n",
       "      <th>Released</th>\n",
       "      <th>Gov_agency_Name</th>\n",
       "      <th>Sup_Gov_agency_Name</th>\n",
       "      <th>Paid_out</th>\n",
       "    </tr>\n",
       "  </thead>\n",
       "  <tbody>\n",
       "    <tr>\n",
       "      <th>0</th>\n",
       "      <td>2014</td>\n",
       "      <td>20101</td>\n",
       "      <td>20000</td>\n",
       "      <td>1.207.732.252,04</td>\n",
       "      <td>1.080.446.271,42</td>\n",
       "      <td>Presidencia da Republica</td>\n",
       "      <td>Presidencia da Republica</td>\n",
       "      <td>1.073.206.586,35</td>\n",
       "    </tr>\n",
       "    <tr>\n",
       "      <th>1</th>\n",
       "      <td>2014</td>\n",
       "      <td>20116</td>\n",
       "      <td>20000</td>\n",
       "      <td>188.922.008,78</td>\n",
       "      <td>177.563.751,32</td>\n",
       "      <td>Fundo de Imprensa Nacional</td>\n",
       "      <td>Presidencia da Republica</td>\n",
       "      <td>177.558.779,52</td>\n",
       "    </tr>\n",
       "    <tr>\n",
       "      <th>2</th>\n",
       "      <td>2014</td>\n",
       "      <td>20122</td>\n",
       "      <td>81000</td>\n",
       "      <td>87.360.033,22</td>\n",
       "      <td>30.141.173,42</td>\n",
       "      <td>Secretaria Nacional de Politicas para Mulheres</td>\n",
       "      <td>Ministerio da Mulher, Familia e Direitos Humanos</td>\n",
       "      <td>30.127.407,52</td>\n",
       "    </tr>\n",
       "    <tr>\n",
       "      <th>3</th>\n",
       "      <td>2014</td>\n",
       "      <td>20129</td>\n",
       "      <td>22000</td>\n",
       "      <td>1.427.440.589,25</td>\n",
       "      <td>1.024.935.703,88</td>\n",
       "      <td>Secretaria Especial de Agricultura Familiar e ...</td>\n",
       "      <td>Ministerio da Agricultura, Pecuaria e Abasteci...</td>\n",
       "      <td>1.022.675.533,51</td>\n",
       "    </tr>\n",
       "    <tr>\n",
       "      <th>4</th>\n",
       "      <td>2014</td>\n",
       "      <td>20202</td>\n",
       "      <td>25000</td>\n",
       "      <td>42.617.886,50</td>\n",
       "      <td>39.935.056,75</td>\n",
       "      <td>Fundacao Escola Nacional de Administracao Publica</td>\n",
       "      <td>Ministerio da Economia</td>\n",
       "      <td>39.935.056,75</td>\n",
       "    </tr>\n",
       "  </tbody>\n",
       "</table>\n",
       "</div>"
      ],
      "text/plain": [
       "   Year  Gov_agency_Cod  Sup_Gov_agency_Cod           Planned  \\\n",
       "0  2014           20101               20000  1.207.732.252,04   \n",
       "1  2014           20116               20000    188.922.008,78   \n",
       "2  2014           20122               81000     87.360.033,22   \n",
       "3  2014           20129               22000  1.427.440.589,25   \n",
       "4  2014           20202               25000     42.617.886,50   \n",
       "\n",
       "           Released                                    Gov_agency_Name  \\\n",
       "0  1.080.446.271,42                           Presidencia da Republica   \n",
       "1    177.563.751,32                         Fundo de Imprensa Nacional   \n",
       "2     30.141.173,42    Secretaria Nacional de Politicas para Mulheres    \n",
       "3  1.024.935.703,88  Secretaria Especial de Agricultura Familiar e ...   \n",
       "4     39.935.056,75  Fundacao Escola Nacional de Administracao Publica   \n",
       "\n",
       "                                 Sup_Gov_agency_Name          Paid_out  \n",
       "0                           Presidencia da Republica  1.073.206.586,35  \n",
       "1                           Presidencia da Republica    177.558.779,52  \n",
       "2   Ministerio da Mulher, Familia e Direitos Humanos     30.127.407,52  \n",
       "3  Ministerio da Agricultura, Pecuaria e Abasteci...  1.022.675.533,51  \n",
       "4                             Ministerio da Economia     39.935.056,75  "
      ]
     },
     "execution_count": 3,
     "metadata": {},
     "output_type": "execute_result"
    }
   ],
   "source": [
    "desp_edu.head()"
   ]
  },
  {
   "cell_type": "code",
   "execution_count": 4,
   "metadata": {},
   "outputs": [
    {
     "name": "stdout",
     "output_type": "stream",
     "text": [
      "<class 'pandas.core.frame.DataFrame'>\n",
      "RangeIndex: 1085 entries, 0 to 1084\n",
      "Data columns (total 8 columns):\n",
      "Year                   1085 non-null int64\n",
      "Gov_agency_Cod         1085 non-null int64\n",
      "Sup_Gov_agency_Cod     1085 non-null int64\n",
      "Planned                1085 non-null object\n",
      "Released               1085 non-null object\n",
      "Gov_agency_Name        1085 non-null object\n",
      "Sup_Gov_agency_Name    1085 non-null object\n",
      "Paid_out               1085 non-null object\n",
      "dtypes: int64(3), object(5)\n",
      "memory usage: 67.9+ KB\n"
     ]
    }
   ],
   "source": [
    "desp_edu.info()"
   ]
  },
  {
   "cell_type": "code",
   "execution_count": 5,
   "metadata": {},
   "outputs": [
    {
     "data": {
      "text/plain": [
       "Index(['year', 'gov_agency_cod', 'sup_gov_agency_cod', 'planned', 'released',\n",
       "       'gov_agency_name', 'sup_gov_agency_name', 'paid_out'],\n",
       "      dtype='object')"
      ]
     },
     "execution_count": 5,
     "metadata": {},
     "output_type": "execute_result"
    }
   ],
   "source": [
    "desp_edu.columns = [name.lower() for name in desp_edu.columns]\n",
    "\n",
    "desp_edu.columns"
   ]
  },
  {
   "cell_type": "code",
   "execution_count": 6,
   "metadata": {
    "scrolled": true
   },
   "outputs": [
    {
     "name": "stdout",
     "output_type": "stream",
     "text": [
      "year\n",
      "gov_agency_cod\n",
      "sup_gov_agency_cod\n",
      "planned\n",
      "released\n",
      "gov_agency_name\n",
      "sup_gov_agency_name\n",
      "paid_out\n"
     ]
    }
   ],
   "source": [
    "for col in desp_edu.columns: \n",
    "    print(col)"
   ]
  },
  {
   "cell_type": "code",
   "execution_count": 7,
   "metadata": {},
   "outputs": [
    {
     "data": {
      "text/html": [
       "<div>\n",
       "<style scoped>\n",
       "    .dataframe tbody tr th:only-of-type {\n",
       "        vertical-align: middle;\n",
       "    }\n",
       "\n",
       "    .dataframe tbody tr th {\n",
       "        vertical-align: top;\n",
       "    }\n",
       "\n",
       "    .dataframe thead th {\n",
       "        text-align: right;\n",
       "    }\n",
       "</style>\n",
       "<table border=\"1\" class=\"dataframe\">\n",
       "  <thead>\n",
       "    <tr style=\"text-align: right;\">\n",
       "      <th></th>\n",
       "      <th>year</th>\n",
       "      <th>gov_agency_cod</th>\n",
       "      <th>sup_gov_agency_cod</th>\n",
       "      <th>planned</th>\n",
       "      <th>released</th>\n",
       "      <th>gov_agency_name</th>\n",
       "      <th>sup_gov_agency_name</th>\n",
       "      <th>paid_out</th>\n",
       "      <th>paid_out_clean</th>\n",
       "    </tr>\n",
       "  </thead>\n",
       "  <tbody>\n",
       "    <tr>\n",
       "      <th>0</th>\n",
       "      <td>2014</td>\n",
       "      <td>20101</td>\n",
       "      <td>20000</td>\n",
       "      <td>1.207.732.252,04</td>\n",
       "      <td>1.080.446.271,42</td>\n",
       "      <td>Presidencia da Republica</td>\n",
       "      <td>Presidencia da Republica</td>\n",
       "      <td>1.073.206.586,35</td>\n",
       "      <td>1.073207e+09</td>\n",
       "    </tr>\n",
       "    <tr>\n",
       "      <th>1</th>\n",
       "      <td>2014</td>\n",
       "      <td>20116</td>\n",
       "      <td>20000</td>\n",
       "      <td>188.922.008,78</td>\n",
       "      <td>177.563.751,32</td>\n",
       "      <td>Fundo de Imprensa Nacional</td>\n",
       "      <td>Presidencia da Republica</td>\n",
       "      <td>177.558.779,52</td>\n",
       "      <td>1.775588e+08</td>\n",
       "    </tr>\n",
       "    <tr>\n",
       "      <th>2</th>\n",
       "      <td>2014</td>\n",
       "      <td>20122</td>\n",
       "      <td>81000</td>\n",
       "      <td>87.360.033,22</td>\n",
       "      <td>30.141.173,42</td>\n",
       "      <td>Secretaria Nacional de Politicas para Mulheres</td>\n",
       "      <td>Ministerio da Mulher, Familia e Direitos Humanos</td>\n",
       "      <td>30.127.407,52</td>\n",
       "      <td>3.012741e+07</td>\n",
       "    </tr>\n",
       "    <tr>\n",
       "      <th>3</th>\n",
       "      <td>2014</td>\n",
       "      <td>20129</td>\n",
       "      <td>22000</td>\n",
       "      <td>1.427.440.589,25</td>\n",
       "      <td>1.024.935.703,88</td>\n",
       "      <td>Secretaria Especial de Agricultura Familiar e ...</td>\n",
       "      <td>Ministerio da Agricultura, Pecuaria e Abasteci...</td>\n",
       "      <td>1.022.675.533,51</td>\n",
       "      <td>1.022676e+09</td>\n",
       "    </tr>\n",
       "    <tr>\n",
       "      <th>4</th>\n",
       "      <td>2014</td>\n",
       "      <td>20202</td>\n",
       "      <td>25000</td>\n",
       "      <td>42.617.886,50</td>\n",
       "      <td>39.935.056,75</td>\n",
       "      <td>Fundacao Escola Nacional de Administracao Publica</td>\n",
       "      <td>Ministerio da Economia</td>\n",
       "      <td>39.935.056,75</td>\n",
       "      <td>3.993506e+07</td>\n",
       "    </tr>\n",
       "  </tbody>\n",
       "</table>\n",
       "</div>"
      ],
      "text/plain": [
       "   year  gov_agency_cod  sup_gov_agency_cod           planned  \\\n",
       "0  2014           20101               20000  1.207.732.252,04   \n",
       "1  2014           20116               20000    188.922.008,78   \n",
       "2  2014           20122               81000     87.360.033,22   \n",
       "3  2014           20129               22000  1.427.440.589,25   \n",
       "4  2014           20202               25000     42.617.886,50   \n",
       "\n",
       "           released                                    gov_agency_name  \\\n",
       "0  1.080.446.271,42                           Presidencia da Republica   \n",
       "1    177.563.751,32                         Fundo de Imprensa Nacional   \n",
       "2     30.141.173,42    Secretaria Nacional de Politicas para Mulheres    \n",
       "3  1.024.935.703,88  Secretaria Especial de Agricultura Familiar e ...   \n",
       "4     39.935.056,75  Fundacao Escola Nacional de Administracao Publica   \n",
       "\n",
       "                                 sup_gov_agency_name          paid_out  \\\n",
       "0                           Presidencia da Republica  1.073.206.586,35   \n",
       "1                           Presidencia da Republica    177.558.779,52   \n",
       "2   Ministerio da Mulher, Familia e Direitos Humanos     30.127.407,52   \n",
       "3  Ministerio da Agricultura, Pecuaria e Abasteci...  1.022.675.533,51   \n",
       "4                             Ministerio da Economia     39.935.056,75   \n",
       "\n",
       "   paid_out_clean  \n",
       "0    1.073207e+09  \n",
       "1    1.775588e+08  \n",
       "2    3.012741e+07  \n",
       "3    1.022676e+09  \n",
       "4    3.993506e+07  "
      ]
     },
     "execution_count": 7,
     "metadata": {},
     "output_type": "execute_result"
    }
   ],
   "source": [
    "desp_edu[\"paid_out_clean\"] = pd.to_numeric(desp_edu[\"paid_out\"].apply(lambda x: x.replace(\".\",\"\").replace(\",\",\".\")))\n",
    "\n",
    "desp_edu.head()"
   ]
  },
  {
   "cell_type": "code",
   "execution_count": 8,
   "metadata": {
    "scrolled": true
   },
   "outputs": [
    {
     "data": {
      "text/html": [
       "<div>\n",
       "<style scoped>\n",
       "    .dataframe tbody tr th:only-of-type {\n",
       "        vertical-align: middle;\n",
       "    }\n",
       "\n",
       "    .dataframe tbody tr th {\n",
       "        vertical-align: top;\n",
       "    }\n",
       "\n",
       "    .dataframe thead th {\n",
       "        text-align: right;\n",
       "    }\n",
       "</style>\n",
       "<table border=\"1\" class=\"dataframe\">\n",
       "  <thead>\n",
       "    <tr style=\"text-align: right;\">\n",
       "      <th></th>\n",
       "      <th>Total de Gastos</th>\n",
       "    </tr>\n",
       "    <tr>\n",
       "      <th>year</th>\n",
       "      <th></th>\n",
       "    </tr>\n",
       "  </thead>\n",
       "  <tbody>\n",
       "    <tr>\n",
       "      <th>2014</th>\n",
       "      <td>2.097077e+12</td>\n",
       "    </tr>\n",
       "    <tr>\n",
       "      <th>2015</th>\n",
       "      <td>2.177241e+12</td>\n",
       "    </tr>\n",
       "    <tr>\n",
       "      <th>2016</th>\n",
       "      <td>2.469834e+12</td>\n",
       "    </tr>\n",
       "    <tr>\n",
       "      <th>2017</th>\n",
       "      <td>2.373248e+12</td>\n",
       "    </tr>\n",
       "    <tr>\n",
       "      <th>2018</th>\n",
       "      <td>2.501132e+12</td>\n",
       "    </tr>\n",
       "  </tbody>\n",
       "</table>\n",
       "</div>"
      ],
      "text/plain": [
       "      Total de Gastos\n",
       "year                 \n",
       "2014     2.097077e+12\n",
       "2015     2.177241e+12\n",
       "2016     2.469834e+12\n",
       "2017     2.373248e+12\n",
       "2018     2.501132e+12"
      ]
     },
     "execution_count": 8,
     "metadata": {},
     "output_type": "execute_result"
    }
   ],
   "source": [
    "gastos_total = desp_edu[[\"year\",\"paid_out_clean\"]].groupby([\"year\"]).sum()\n",
    "gastos_total.columns = ['Total de Gastos']\n",
    "gastos_total"
   ]
  },
  {
   "cell_type": "code",
   "execution_count": 9,
   "metadata": {},
   "outputs": [],
   "source": [
    "desp_edu.loc[(desp_edu['sup_gov_agency_name']==\"Ministerio da Educacao\") & \n",
    "             desp_edu[\"gov_agency_name\"].str.contains(\"Universidade\")][[\"year\",\"gov_agency_name\",\"paid_out_clean\"]]\n",
    "\n",
    "desp_uf= desp_edu.loc[(desp_edu['sup_gov_agency_name']==\"Ministerio da Educacao\") & \n",
    "             desp_edu[\"gov_agency_name\"].str.contains(\"Universidade\")][[\"year\",\"gov_agency_name\",\"paid_out_clean\"]]"
   ]
  },
  {
   "cell_type": "code",
   "execution_count": 10,
   "metadata": {
    "scrolled": true
   },
   "outputs": [
    {
     "data": {
      "text/html": [
       "<div>\n",
       "<style scoped>\n",
       "    .dataframe tbody tr th:only-of-type {\n",
       "        vertical-align: middle;\n",
       "    }\n",
       "\n",
       "    .dataframe tbody tr th {\n",
       "        vertical-align: top;\n",
       "    }\n",
       "\n",
       "    .dataframe thead th {\n",
       "        text-align: right;\n",
       "    }\n",
       "</style>\n",
       "<table border=\"1\" class=\"dataframe\">\n",
       "  <thead>\n",
       "    <tr style=\"text-align: right;\">\n",
       "      <th></th>\n",
       "      <th>Gastos com Federais</th>\n",
       "    </tr>\n",
       "    <tr>\n",
       "      <th>year</th>\n",
       "      <th></th>\n",
       "    </tr>\n",
       "  </thead>\n",
       "  <tbody>\n",
       "    <tr>\n",
       "      <th>2014</th>\n",
       "      <td>4.085268e+10</td>\n",
       "    </tr>\n",
       "    <tr>\n",
       "      <th>2015</th>\n",
       "      <td>4.329063e+10</td>\n",
       "    </tr>\n",
       "    <tr>\n",
       "      <th>2016</th>\n",
       "      <td>4.711092e+10</td>\n",
       "    </tr>\n",
       "    <tr>\n",
       "      <th>2017</th>\n",
       "      <td>5.158223e+10</td>\n",
       "    </tr>\n",
       "    <tr>\n",
       "      <th>2018</th>\n",
       "      <td>5.011651e+10</td>\n",
       "    </tr>\n",
       "  </tbody>\n",
       "</table>\n",
       "</div>"
      ],
      "text/plain": [
       "      Gastos com Federais\n",
       "year                     \n",
       "2014         4.085268e+10\n",
       "2015         4.329063e+10\n",
       "2016         4.711092e+10\n",
       "2017         5.158223e+10\n",
       "2018         5.011651e+10"
      ]
     },
     "execution_count": 10,
     "metadata": {},
     "output_type": "execute_result"
    }
   ],
   "source": [
    "gastos_uf = desp_uf[[\"year\",\"paid_out_clean\"]].groupby([\"year\"]).sum()\n",
    "gastos_uf.columns = ['Gastos com Federais']\n",
    "gastos_uf"
   ]
  },
  {
   "cell_type": "code",
   "execution_count": 11,
   "metadata": {
    "scrolled": true
   },
   "outputs": [
    {
     "data": {
      "text/html": [
       "<div>\n",
       "<style scoped>\n",
       "    .dataframe tbody tr th:only-of-type {\n",
       "        vertical-align: middle;\n",
       "    }\n",
       "\n",
       "    .dataframe tbody tr th {\n",
       "        vertical-align: top;\n",
       "    }\n",
       "\n",
       "    .dataframe thead th {\n",
       "        text-align: right;\n",
       "    }\n",
       "</style>\n",
       "<table border=\"1\" class=\"dataframe\">\n",
       "  <thead>\n",
       "    <tr style=\"text-align: right;\">\n",
       "      <th>sup_gov_agency_name</th>\n",
       "      <th>Ministerio da Educacao</th>\n",
       "    </tr>\n",
       "    <tr>\n",
       "      <th>year</th>\n",
       "      <th></th>\n",
       "    </tr>\n",
       "  </thead>\n",
       "  <tbody>\n",
       "    <tr>\n",
       "      <th>2014</th>\n",
       "      <td>9.659026e+10</td>\n",
       "    </tr>\n",
       "    <tr>\n",
       "      <th>2015</th>\n",
       "      <td>1.032665e+11</td>\n",
       "    </tr>\n",
       "    <tr>\n",
       "      <th>2016</th>\n",
       "      <td>1.095093e+11</td>\n",
       "    </tr>\n",
       "    <tr>\n",
       "      <th>2017</th>\n",
       "      <td>1.168747e+11</td>\n",
       "    </tr>\n",
       "    <tr>\n",
       "      <th>2018</th>\n",
       "      <td>1.107682e+11</td>\n",
       "    </tr>\n",
       "  </tbody>\n",
       "</table>\n",
       "</div>"
      ],
      "text/plain": [
       "sup_gov_agency_name  Ministerio da Educacao\n",
       "year                                       \n",
       "2014                           9.659026e+10\n",
       "2015                           1.032665e+11\n",
       "2016                           1.095093e+11\n",
       "2017                           1.168747e+11\n",
       "2018                           1.107682e+11"
      ]
     },
     "execution_count": 11,
     "metadata": {},
     "output_type": "execute_result"
    }
   ],
   "source": [
    "gastos_edu = desp_edu[[\"year\", \"sup_gov_agency_name\", \"paid_out_clean\"]].groupby([\"year\",\"sup_gov_agency_name\"]).sum().unstack()[\"paid_out_clean\"][['Ministerio da Educacao']]\n",
    "gastos_edu"
   ]
  },
  {
   "cell_type": "code",
   "execution_count": 12,
   "metadata": {},
   "outputs": [
    {
     "data": {
      "text/html": [
       "<div>\n",
       "<style scoped>\n",
       "    .dataframe tbody tr th:only-of-type {\n",
       "        vertical-align: middle;\n",
       "    }\n",
       "\n",
       "    .dataframe tbody tr th {\n",
       "        vertical-align: top;\n",
       "    }\n",
       "\n",
       "    .dataframe thead th {\n",
       "        text-align: right;\n",
       "    }\n",
       "</style>\n",
       "<table border=\"1\" class=\"dataframe\">\n",
       "  <thead>\n",
       "    <tr style=\"text-align: right;\">\n",
       "      <th></th>\n",
       "      <th>Ministerio da Educacao</th>\n",
       "      <th>Gastos com Federais</th>\n",
       "      <th>Total de Gastos</th>\n",
       "      <th>Percentual Federais</th>\n",
       "      <th>Percentual Educacao</th>\n",
       "    </tr>\n",
       "    <tr>\n",
       "      <th>year</th>\n",
       "      <th></th>\n",
       "      <th></th>\n",
       "      <th></th>\n",
       "      <th></th>\n",
       "      <th></th>\n",
       "    </tr>\n",
       "  </thead>\n",
       "  <tbody>\n",
       "    <tr>\n",
       "      <th>2014</th>\n",
       "      <td>9.659026e+10</td>\n",
       "      <td>4.085268e+10</td>\n",
       "      <td>2.097077e+12</td>\n",
       "      <td>1.9</td>\n",
       "      <td>4.6</td>\n",
       "    </tr>\n",
       "    <tr>\n",
       "      <th>2015</th>\n",
       "      <td>1.032665e+11</td>\n",
       "      <td>4.329063e+10</td>\n",
       "      <td>2.177241e+12</td>\n",
       "      <td>2.0</td>\n",
       "      <td>4.7</td>\n",
       "    </tr>\n",
       "    <tr>\n",
       "      <th>2016</th>\n",
       "      <td>1.095093e+11</td>\n",
       "      <td>4.711092e+10</td>\n",
       "      <td>2.469834e+12</td>\n",
       "      <td>1.9</td>\n",
       "      <td>4.4</td>\n",
       "    </tr>\n",
       "    <tr>\n",
       "      <th>2017</th>\n",
       "      <td>1.168747e+11</td>\n",
       "      <td>5.158223e+10</td>\n",
       "      <td>2.373248e+12</td>\n",
       "      <td>2.2</td>\n",
       "      <td>4.9</td>\n",
       "    </tr>\n",
       "    <tr>\n",
       "      <th>2018</th>\n",
       "      <td>1.107682e+11</td>\n",
       "      <td>5.011651e+10</td>\n",
       "      <td>2.501132e+12</td>\n",
       "      <td>2.0</td>\n",
       "      <td>4.4</td>\n",
       "    </tr>\n",
       "  </tbody>\n",
       "</table>\n",
       "</div>"
      ],
      "text/plain": [
       "      Ministerio da Educacao  Gastos com Federais  Total de Gastos  \\\n",
       "year                                                                 \n",
       "2014            9.659026e+10         4.085268e+10     2.097077e+12   \n",
       "2015            1.032665e+11         4.329063e+10     2.177241e+12   \n",
       "2016            1.095093e+11         4.711092e+10     2.469834e+12   \n",
       "2017            1.168747e+11         5.158223e+10     2.373248e+12   \n",
       "2018            1.107682e+11         5.011651e+10     2.501132e+12   \n",
       "\n",
       "      Percentual Federais  Percentual Educacao  \n",
       "year                                            \n",
       "2014                  1.9                  4.6  \n",
       "2015                  2.0                  4.7  \n",
       "2016                  1.9                  4.4  \n",
       "2017                  2.2                  4.9  \n",
       "2018                  2.0                  4.4  "
      ]
     },
     "execution_count": 12,
     "metadata": {},
     "output_type": "execute_result"
    }
   ],
   "source": [
    "tabela_gastos = gastos_edu.join(gastos_uf).join(gastos_total)\n",
    "tabela_gastos['Percentual Federais'] = round(tabela_gastos['Gastos com Federais']/tabela_gastos['Total de Gastos']*100,1)\n",
    "\n",
    "tabela_gastos['Percentual Educacao'] = round(tabela_gastos['Ministerio da Educacao']/tabela_gastos['Total de Gastos']*100, 1)\n",
    "tabela_gastos\n"
   ]
  },
  {
   "cell_type": "code",
   "execution_count": 13,
   "metadata": {},
   "outputs": [
    {
     "data": {
      "text/plain": [
       "Text(0.5, 1.0, 'Gastos Federais X Investimento em Educação')"
      ]
     },
     "execution_count": 13,
     "metadata": {},
     "output_type": "execute_result"
    },
    {
     "data": {
      "image/png": "[encoded data removed]",
      "text/plain": [
       "<Figure size 432x288 with 1 Axes>"
      ]
     },
     "metadata": {
      "needs_background": "light"
     },
     "output_type": "display_data"
    }
   ],
   "source": [
    "sns.barplot(x=tabela_gastos.index, y=tabela_gastos['Total de Gastos'], color='green')\n",
    "sns.barplot(x=tabela_gastos.index, y=tabela_gastos['Ministerio da Educacao'], color='yellow')\n",
    "\n",
    "\n",
    "plt.title(\"Gastos Federais X Investimento em Educação\")"
   ]
  },
  {
   "cell_type": "code",
   "execution_count": 14,
   "metadata": {
    "scrolled": false
   },
   "outputs": [
    {
     "data": {
      "text/html": [
       "<div>\n",
       "<style scoped>\n",
       "    .dataframe tbody tr th:only-of-type {\n",
       "        vertical-align: middle;\n",
       "    }\n",
       "\n",
       "    .dataframe tbody tr th {\n",
       "        vertical-align: top;\n",
       "    }\n",
       "\n",
       "    .dataframe thead th {\n",
       "        text-align: right;\n",
       "    }\n",
       "</style>\n",
       "<table border=\"1\" class=\"dataframe\">\n",
       "  <thead>\n",
       "    <tr style=\"text-align: right;\">\n",
       "      <th></th>\n",
       "      <th>Ministerio da Educacao</th>\n",
       "      <th>Gastos com Federais</th>\n",
       "      <th>Percentual Federais</th>\n",
       "    </tr>\n",
       "    <tr>\n",
       "      <th>year</th>\n",
       "      <th></th>\n",
       "      <th></th>\n",
       "      <th></th>\n",
       "    </tr>\n",
       "  </thead>\n",
       "  <tbody>\n",
       "    <tr>\n",
       "      <th>2014</th>\n",
       "      <td>9.659026e+10</td>\n",
       "      <td>4.085268e+10</td>\n",
       "      <td>42.3</td>\n",
       "    </tr>\n",
       "    <tr>\n",
       "      <th>2015</th>\n",
       "      <td>1.032665e+11</td>\n",
       "      <td>4.329063e+10</td>\n",
       "      <td>41.9</td>\n",
       "    </tr>\n",
       "    <tr>\n",
       "      <th>2016</th>\n",
       "      <td>1.095093e+11</td>\n",
       "      <td>4.711092e+10</td>\n",
       "      <td>43.0</td>\n",
       "    </tr>\n",
       "    <tr>\n",
       "      <th>2017</th>\n",
       "      <td>1.168747e+11</td>\n",
       "      <td>5.158223e+10</td>\n",
       "      <td>44.1</td>\n",
       "    </tr>\n",
       "    <tr>\n",
       "      <th>2018</th>\n",
       "      <td>1.107682e+11</td>\n",
       "      <td>5.011651e+10</td>\n",
       "      <td>45.2</td>\n",
       "    </tr>\n",
       "  </tbody>\n",
       "</table>\n",
       "</div>"
      ],
      "text/plain": [
       "      Ministerio da Educacao  Gastos com Federais  Percentual Federais\n",
       "year                                                                  \n",
       "2014            9.659026e+10         4.085268e+10                 42.3\n",
       "2015            1.032665e+11         4.329063e+10                 41.9\n",
       "2016            1.095093e+11         4.711092e+10                 43.0\n",
       "2017            1.168747e+11         5.158223e+10                 44.1\n",
       "2018            1.107682e+11         5.011651e+10                 45.2"
      ]
     },
     "execution_count": 14,
     "metadata": {},
     "output_type": "execute_result"
    }
   ],
   "source": [
    "tabela_gastos_2 = gastos_edu.join(gastos_uf)\n",
    "tabela_gastos_2['Percentual Federais'] = round(tabela_gastos['Gastos com Federais']/tabela_gastos[\"Ministerio da Educacao\"]*100,1)\n",
    "\n",
    "tabela_gastos_2\n"
   ]
  },
  {
   "cell_type": "code",
   "execution_count": 15,
   "metadata": {},
   "outputs": [
    {
     "data": {
      "text/plain": [
       "Text(0.5, 1.0, 'Gastos com Educação X Gastos com UFs')"
      ]
     },
     "execution_count": 15,
     "metadata": {},
     "output_type": "execute_result"
    },
    {
     "data": {
      "image/png": "[encoded data removed]",
      "text/plain": [
       "<Figure size 432x288 with 1 Axes>"
      ]
     },
     "metadata": {
      "needs_background": "light"
     },
     "output_type": "display_data"
    }
   ],
   "source": [
    "sns.barplot(x=tabela_gastos_2.index, y=tabela_gastos_2['Ministerio da Educacao'], color='green')\n",
    "sns.barplot(x=tabela_gastos_2.index, y=tabela_gastos_2['Gastos com Federais'], color='red')\n",
    "plt.title(\"Gastos com Educação X Gastos com UFs\")"
   ]
  }
 ],
 "metadata": {
  "kernelspec": {
   "display_name": "Python 3",
   "language": "python",
   "name": "python3"
  },
  "language_info": {
   "codemirror_mode": {
    "name": "ipython",
    "version": 3
   },
   "file_extension": ".py",
   "mimetype": "text/x-python",
   "name": "python",
   "nbconvert_exporter": "python",
   "pygments_lexer": "ipython3",
   "version": "3.7.1"
  }
 },
 "nbformat": 4,
 "nbformat_minor": 2
}
